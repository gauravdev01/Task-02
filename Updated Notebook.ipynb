{
  "nbformat": 4,
  "nbformat_minor": 0,
  "metadata": {
    "colab": {
      "provenance": []
    },
    "kernelspec": {
      "name": "python3",
      "display_name": "Python 3"
    },
    "language_info": {
      "name": "python"
    }
  },
  "cells": [
    {
      "cell_type": "code",
      "execution_count": 2,
      "metadata": {
        "colab": {
          "base_uri": "https://localhost:8080/"
        },
        "id": "Bpm-ZYxg0abx",
        "outputId": "b6f361ad-c178-4262-c60b-02529978db78"
      },
      "outputs": [
        {
          "output_type": "stream",
          "name": "stdout",
          "text": [
            "Input: User: Hello, can you help me with my order? {{gen 'acknowledge'}}\n",
            "Formatted: User: Hello, can you help me with my order? {{gen 'acknowledge'}}\n",
            "===\n",
            "Input: Assistant: Sure, please provide your order number. {{gen 'prompt'}}\n",
            "Formatted: Assistant: Sure, please provide your order number. {{gen 'prompt'}}\n",
            "===\n",
            "Input: {{gen 'notify'}} Your order has been shipped. Expect delivery within 2-3 business days.\n",
            "Formatted: {{gen 'notify'}} Your order has been shipped. Expect delivery within 2-3 business days.\n",
            "===\n",
            "Input: User: What's the weather like today? {{gen 'weather'}}\n",
            "Formatted: User: What's the weather like today? {{gen 'weather'}}\n",
            "===\n",
            "Input: Assistant: The weather is sunny with a high of 75°F. {{gen 'end'}}\n",
            "Formatted: Assistant: The weather is sunny with a high of 75°F. {{gen 'end'}}\n",
            "===\n"
          ]
        }
      ],
      "source": [
        "from pyparsing import Word, alphas, Forward, Group, Literal, Suppress, Combine, restOfLine\n",
        "\n",
        "# Define the pyparsing grammar\n",
        "LBRACE = Literal(\"{{\")\n",
        "RBRACE = Literal(\"}}\")\n",
        "user_tag = LBRACE + Literal(\"#user\") + RBRACE\n",
        "assistant_tag = LBRACE + Literal(\"#assistant\") + RBRACE\n",
        "gen_command = Combine(Literal(\"{{gen\") + \"'\" + Word(alphas) + \"'\" + RBRACE)\n",
        "gen_command_end = LBRACE + Literal(\"/assistant\") + RBRACE\n",
        "\n",
        "# Define a forward declaration for recursion\n",
        "segment = Forward()\n",
        "\n",
        "# Define the grammar for a segment\n",
        "segment <<= (\n",
        "    user_tag + segment + LBRACE + Literal(\"/user\") + RBRACE\n",
        "    | assistant_tag + segment + gen_command + segment + gen_command_end\n",
        "    | gen_command + segment + gen_command_end\n",
        "    | restOfLine\n",
        ")\n",
        "\n",
        "def format_chat_template(input_text):\n",
        "    parsed = segment.parseString(input_text, parseAll=True)\n",
        "    return \"\".join(parsed)\n",
        "\n",
        "# Test cases\n",
        "if __name__ == \"__main__\":\n",
        "    test_cases = [\n",
        "        \"User: Hello, can you help me with my order? {{gen 'acknowledge'}}\",\n",
        "        \"Assistant: Sure, please provide your order number. {{gen 'prompt'}}\",\n",
        "        \"{{gen 'notify'}} Your order has been shipped. Expect delivery within 2-3 business days.\",\n",
        "        \"User: What's the weather like today? {{gen 'weather'}}\",\n",
        "        \"Assistant: The weather is sunny with a high of 75°F. {{gen 'end'}}\",\n",
        "    ]\n",
        "\n",
        "    for test in test_cases:\n",
        "        formatted = format_chat_template(test)\n",
        "        print(\"Input:\", test)\n",
        "        print(\"Formatted:\", formatted)\n",
        "        print(\"===\")\n"
      ]
    }
  ]
}