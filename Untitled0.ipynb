{
  "nbformat": 4,
  "nbformat_minor": 0,
  "metadata": {
    "colab": {
      "provenance": []
    },
    "kernelspec": {
      "name": "python3",
      "display_name": "Python 3"
    },
    "language_info": {
      "name": "python"
    }
  },
  "cells": [
    {
      "cell_type": "code",
      "execution_count": 5,
      "metadata": {
        "colab": {
          "base_uri": "https://localhost:8080/"
        },
        "id": "Bpm-ZYxg0abx",
        "outputId": "716667a0-a5cc-4820-ca51-1e606edf122a"
      },
      "outputs": [
        {
          "output_type": "stream",
          "name": "stdout",
          "text": [
            "Input: how are things going, tell me about Delhi {{gen 'write'}}\n",
            "Formatted: how are things going, tell me about Delhi {{gen 'write'}}\n",
            "===\n",
            "Input: Tweak this proverb to apply to model instructions instead. Where there is no guidance {{gen 'rewrite'}}\n",
            "Formatted: Tweak this proverb to apply to model instructions instead. Where there is no guidance {{gen 'rewrite'}}\n",
            "===\n"
          ]
        }
      ],
      "source": [
        "# Import necessary libraries\n",
        "from pyparsing import Word, alphas, Forward, Group, Literal, Suppress, Combine, restOfLine\n",
        "\n",
        "# Define the pyparsing grammar\n",
        "LBRACE = Literal(\"{{\")\n",
        "RBRACE = Literal(\"}}\")\n",
        "user_tag = LBRACE + Literal(\"#user\") + RBRACE\n",
        "assistant_tag = LBRACE + Literal(\"#assistant\") + RBRACE\n",
        "gen_command = Combine(Literal(\"{{gen\") + \"'\" + Word(alphas) + \"'\" + RBRACE)\n",
        "gen_command_end = LBRACE + Literal(\"/assistant\") + RBRACE\n",
        "\n",
        "# Define a forward declaration for recursion\n",
        "segment = Forward()\n",
        "\n",
        "# Define the grammar for a segment\n",
        "segment <<= (\n",
        "    user_tag + segment + LBRACE + Literal(\"/user\") + RBRACE\n",
        "    | assistant_tag + segment + gen_command + segment + gen_command_end\n",
        "    | gen_command + segment + gen_command_end\n",
        "    | restOfLine\n",
        ")\n",
        "\n",
        "def format_chat_template(input_text):\n",
        "    parsed = segment.parseString(input_text, parseAll=True)\n",
        "    return \"\".join(parsed)\n",
        "\n",
        "# Test cases\n",
        "if __name__ == \"__main__\":\n",
        "    test_cases = [\n",
        "        \"how are things going, tell me about Delhi {{gen 'write'}}\",\n",
        "        \"Tweak this proverb to apply to model instructions instead. Where there is no guidance {{gen 'rewrite'}}\"\n",
        "    ]\n",
        "\n",
        "    for test in test_cases:\n",
        "        formatted = format_chat_template(test)\n",
        "        print(\"Input:\", test)\n",
        "        print(\"Formatted:\", formatted)\n",
        "        print(\"===\")\n"
      ]
    }
  ]
}